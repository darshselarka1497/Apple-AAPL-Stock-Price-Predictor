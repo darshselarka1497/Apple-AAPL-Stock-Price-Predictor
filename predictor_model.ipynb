{
  "nbformat": 4,
  "nbformat_minor": 0,
  "metadata": {
    "colab": {
      "name": "predictor_model.ipynb",
      "provenance": [],
      "collapsed_sections": [],
      "authorship_tag": "ABX9TyOMLOC6SJZsgHODibLcvz3V",
      "include_colab_link": true
    },
    "kernelspec": {
      "name": "python3",
      "display_name": "Python 3"
    }
  },
  "cells": [
    {
      "cell_type": "markdown",
      "metadata": {
        "id": "view-in-github",
        "colab_type": "text"
      },
      "source": [
        "<a href=\"https://colab.research.google.com/github/darshselarka1497/TSLA-Stock-Price-Predictor/blob/master/predictor_model.ipynb\" target=\"_parent\"><img src=\"https://colab.research.google.com/assets/colab-badge.svg\" alt=\"Open In Colab\"/></a>"
      ]
    },
    {
      "cell_type": "code",
      "metadata": {
        "id": "fMZbW3lQA3b4",
        "colab_type": "code",
        "colab": {}
      },
      "source": [
        "# TSLA Price Prediction implemented using LSTM by utilizing its closing prices in 2020 so far..."
      ],
      "execution_count": null,
      "outputs": []
    },
    {
      "cell_type": "code",
      "metadata": {
        "id": "xNeRdD_CBgri",
        "colab_type": "code",
        "colab": {}
      },
      "source": [
        "import math\n",
        "import pandas_datareader as web\n",
        "import numpy as np\n",
        "import pandas as pd\n",
        "from sklearn.preprocessing import MinMaxScaler\n",
        "from keras.models import Sequential\n",
        "from keras.layers import Dense, LSTM\n",
        "import matplotlib.pyplot as plt\n",
        "plt.style.use('fivethirtyeight')"
      ],
      "execution_count": null,
      "outputs": []
    },
    {
      "cell_type": "code",
      "metadata": {
        "id": "iyG4mSWmCG8s",
        "colab_type": "code",
        "colab": {}
      },
      "source": [
        "df = web.DataReader('TSLA', data_source='yahoo', start='2020-01-01', end='2020-07-22')\n",
        "df"
      ],
      "execution_count": null,
      "outputs": []
    },
    {
      "cell_type": "code",
      "metadata": {
        "id": "ERtAnR1YDAQj",
        "colab_type": "code",
        "colab": {}
      },
      "source": [
        "df.shape"
      ],
      "execution_count": null,
      "outputs": []
    },
    {
      "cell_type": "code",
      "metadata": {
        "id": "r28RqSLLDImV",
        "colab_type": "code",
        "colab": {}
      },
      "source": [
        "#visualizing closing price for TSLA in 2020 (so far...)\n",
        "plt.figure(figsize=(16,8))\n",
        "plt.title('TSLA Close Price History')\n",
        "plt.plot(df['Close'])\n",
        "plt.xlabel(\"Date\", fontsize=15)\n",
        "plt.ylabel('USD', fontsize=15)\n",
        "plt.show()"
      ],
      "execution_count": null,
      "outputs": []
    },
    {
      "cell_type": "code",
      "metadata": {
        "id": "Rt-7HpAJGm8k",
        "colab_type": "code",
        "colab": {
          "base_uri": "https://localhost:8080/",
          "height": 34
        },
        "outputId": "6389d282-e9e2-494e-d39f-266131e4a2b7"
      },
      "source": [
        "close = df.filter(['Close'])\n",
        "#converting close price dataframe to numpy arrays\n",
        "dataset = close.values\n",
        "training_data_size = len(dataset)\n",
        "training_data_size"
      ],
      "execution_count": 17,
      "outputs": [
        {
          "output_type": "execute_result",
          "data": {
            "text/plain": [
              "140"
            ]
          },
          "metadata": {
            "tags": []
          },
          "execution_count": 17
        }
      ]
    },
    {
      "cell_type": "code",
      "metadata": {
        "id": "c_MxV7A5HbO1",
        "colab_type": "code",
        "colab": {}
      },
      "source": [
        "#data scaling\n",
        "scaler = MinMaxScaler(feature_range=(0,1))\n",
        "scaled_data = scaler.fit_transform(dataset)\n",
        "scaled_data"
      ],
      "execution_count": null,
      "outputs": []
    },
    {
      "cell_type": "code",
      "metadata": {
        "id": "4c0DpjGWIR_k",
        "colab_type": "code",
        "colab": {}
      },
      "source": [
        "train_data = scaled_data[0:training_data_size, :]\n",
        "#splitting data\n",
        "x_train = []\n",
        "#target value\n",
        "y_train = []\n",
        "\n",
        "for i in range (100,len(train_data)):\n",
        "  x_train.append(train_data[i-100:i,0])\n",
        "  y_train.append(train_data[i,0])\n",
        "  if(i<=100):\n",
        "    print(x_train)\n",
        "    print(y_train)"
      ],
      "execution_count": null,
      "outputs": []
    },
    {
      "cell_type": "code",
      "metadata": {
        "id": "rjG7P33lJuOc",
        "colab_type": "code",
        "colab": {}
      },
      "source": [
        "#converting x_train and y_train to numpy array to train LSTM neural network\n",
        "x_train = np.array(x_train)\n",
        "y_train = np.array(y_train)"
      ],
      "execution_count": 49,
      "outputs": []
    },
    {
      "cell_type": "code",
      "metadata": {
        "id": "kPjD-lXNKByb",
        "colab_type": "code",
        "colab": {
          "base_uri": "https://localhost:8080/",
          "height": 34
        },
        "outputId": "5a15ba60-f686-4ce4-b6e1-746d43dca0c3"
      },
      "source": [
        "#converting 2D data to 3D data for LSTM model\n",
        "x_train = np.reshape(x_train, (x_train.shape[0],x_train.shape[1],1))\n",
        "x_train.shape"
      ],
      "execution_count": 65,
      "outputs": [
        {
          "output_type": "execute_result",
          "data": {
            "text/plain": [
              "(40, 100, 1)"
            ]
          },
          "metadata": {
            "tags": []
          },
          "execution_count": 65
        }
      ]
    },
    {
      "cell_type": "code",
      "metadata": {
        "id": "24Ev7u_eKiv0",
        "colab_type": "code",
        "colab": {}
      },
      "source": [
        "#LSTM Model\n",
        "model = Sequential()\n",
        "#first layer\n",
        "model.add(LSTM(50, return_sequences=True, input_shape=(x_train.shape[1],1)))\n",
        "#second layer\n",
        "model.add(LSTM(50, return_sequences=False))\n",
        "#third layer (dense layer)\n",
        "model.add(Dense(25))\n",
        "model.add(Dense(1))"
      ],
      "execution_count": 66,
      "outputs": []
    },
    {
      "cell_type": "code",
      "metadata": {
        "id": "a3M-ondRLP7h",
        "colab_type": "code",
        "colab": {}
      },
      "source": [
        "model.compile(optimizer='adam', loss='mean_squared_error')"
      ],
      "execution_count": 67,
      "outputs": []
    },
    {
      "cell_type": "code",
      "metadata": {
        "id": "ocVA832JLZKr",
        "colab_type": "code",
        "colab": {
          "base_uri": "https://localhost:8080/",
          "height": 67
        },
        "outputId": "585c80f8-430d-4640-9214-67930dccca4b"
      },
      "source": [
        "model.fit(x_train, y_train, batch_size=1, epochs=1)"
      ],
      "execution_count": 68,
      "outputs": [
        {
          "output_type": "stream",
          "text": [
            "Epoch 1/1\n",
            "40/40 [==============================] - 3s 86ms/step - loss: 0.0508\n"
          ],
          "name": "stdout"
        },
        {
          "output_type": "execute_result",
          "data": {
            "text/plain": [
              "<keras.callbacks.callbacks.History at 0x7f47ff742cc0>"
            ]
          },
          "metadata": {
            "tags": []
          },
          "execution_count": 68
        }
      ]
    },
    {
      "cell_type": "code",
      "metadata": {
        "id": "hDnelJVeNuGu",
        "colab_type": "code",
        "colab": {}
      },
      "source": [
        "#testing data"
      ],
      "execution_count": null,
      "outputs": []
    }
  ]
}