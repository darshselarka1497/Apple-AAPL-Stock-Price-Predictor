{
  "nbformat": 4,
  "nbformat_minor": 0,
  "metadata": {
    "colab": {
      "name": "predictor_model.ipynb",
      "provenance": [],
      "collapsed_sections": [],
      "authorship_tag": "ABX9TyNfPdHHFqACFDlwvrBjYkY0",
      "include_colab_link": true
    },
    "kernelspec": {
      "name": "python3",
      "display_name": "Python 3"
    }
  },
  "cells": [
    {
      "cell_type": "markdown",
      "metadata": {
        "id": "view-in-github",
        "colab_type": "text"
      },
      "source": [
        "<a href=\"https://colab.research.google.com/github/darshselarka1497/TSLA-Stock-Price-Predictor/blob/master/predictor_model.ipynb\" target=\"_parent\"><img src=\"https://colab.research.google.com/assets/colab-badge.svg\" alt=\"Open In Colab\"/></a>"
      ]
    },
    {
      "cell_type": "code",
      "metadata": {
        "id": "fMZbW3lQA3b4",
        "colab_type": "code",
        "colab": {}
      },
      "source": [
        "# TSLA Price Prediction implemented using LSTM by utilizing its closing prices in 2020 so far..."
      ],
      "execution_count": null,
      "outputs": []
    },
    {
      "cell_type": "code",
      "metadata": {
        "id": "xNeRdD_CBgri",
        "colab_type": "code",
        "colab": {}
      },
      "source": [
        "import math\n",
        "import pandas_datareader as web\n",
        "import numpy as np\n",
        "import pandas as pd\n",
        "from sklearn.preprocessing import MinMaxScaler\n",
        "from keras.models import Sequential\n",
        "from keras.layers import Dense, LSTM\n",
        "import matplotlib.pyplot as plt\n",
        "plt.style.use('fivethirtyeight')"
      ],
      "execution_count": 189,
      "outputs": []
    },
    {
      "cell_type": "code",
      "metadata": {
        "id": "iyG4mSWmCG8s",
        "colab_type": "code",
        "colab": {
          "base_uri": "https://localhost:8080/",
          "height": 431
        },
        "outputId": "c82b2ede-db82-475d-c225-f27057d5bbe9"
      },
      "source": [
        "df = web.DataReader('TSLA', data_source='yahoo', start='2010-06-29', end='2020-07-22')\n",
        "df"
      ],
      "execution_count": 233,
      "outputs": [
        {
          "output_type": "execute_result",
          "data": {
            "text/html": [
              "<div>\n",
              "<style scoped>\n",
              "    .dataframe tbody tr th:only-of-type {\n",
              "        vertical-align: middle;\n",
              "    }\n",
              "\n",
              "    .dataframe tbody tr th {\n",
              "        vertical-align: top;\n",
              "    }\n",
              "\n",
              "    .dataframe thead th {\n",
              "        text-align: right;\n",
              "    }\n",
              "</style>\n",
              "<table border=\"1\" class=\"dataframe\">\n",
              "  <thead>\n",
              "    <tr style=\"text-align: right;\">\n",
              "      <th></th>\n",
              "      <th>High</th>\n",
              "      <th>Low</th>\n",
              "      <th>Open</th>\n",
              "      <th>Close</th>\n",
              "      <th>Volume</th>\n",
              "      <th>Adj Close</th>\n",
              "    </tr>\n",
              "    <tr>\n",
              "      <th>Date</th>\n",
              "      <th></th>\n",
              "      <th></th>\n",
              "      <th></th>\n",
              "      <th></th>\n",
              "      <th></th>\n",
              "      <th></th>\n",
              "    </tr>\n",
              "  </thead>\n",
              "  <tbody>\n",
              "    <tr>\n",
              "      <th>2010-06-29</th>\n",
              "      <td>25.000000</td>\n",
              "      <td>17.540001</td>\n",
              "      <td>19.000000</td>\n",
              "      <td>23.889999</td>\n",
              "      <td>18766300</td>\n",
              "      <td>23.889999</td>\n",
              "    </tr>\n",
              "    <tr>\n",
              "      <th>2010-06-30</th>\n",
              "      <td>30.420000</td>\n",
              "      <td>23.299999</td>\n",
              "      <td>25.790001</td>\n",
              "      <td>23.830000</td>\n",
              "      <td>17187100</td>\n",
              "      <td>23.830000</td>\n",
              "    </tr>\n",
              "    <tr>\n",
              "      <th>2010-07-01</th>\n",
              "      <td>25.920000</td>\n",
              "      <td>20.270000</td>\n",
              "      <td>25.000000</td>\n",
              "      <td>21.959999</td>\n",
              "      <td>8218800</td>\n",
              "      <td>21.959999</td>\n",
              "    </tr>\n",
              "    <tr>\n",
              "      <th>2010-07-02</th>\n",
              "      <td>23.100000</td>\n",
              "      <td>18.709999</td>\n",
              "      <td>23.000000</td>\n",
              "      <td>19.200001</td>\n",
              "      <td>5139800</td>\n",
              "      <td>19.200001</td>\n",
              "    </tr>\n",
              "    <tr>\n",
              "      <th>2010-07-06</th>\n",
              "      <td>20.000000</td>\n",
              "      <td>15.830000</td>\n",
              "      <td>20.000000</td>\n",
              "      <td>16.110001</td>\n",
              "      <td>6866900</td>\n",
              "      <td>16.110001</td>\n",
              "    </tr>\n",
              "    <tr>\n",
              "      <th>...</th>\n",
              "      <td>...</td>\n",
              "      <td>...</td>\n",
              "      <td>...</td>\n",
              "      <td>...</td>\n",
              "      <td>...</td>\n",
              "      <td>...</td>\n",
              "    </tr>\n",
              "    <tr>\n",
              "      <th>2020-07-16</th>\n",
              "      <td>1531.709961</td>\n",
              "      <td>1466.000000</td>\n",
              "      <td>1477.160034</td>\n",
              "      <td>1500.640015</td>\n",
              "      <td>14300800</td>\n",
              "      <td>1500.640015</td>\n",
              "    </tr>\n",
              "    <tr>\n",
              "      <th>2020-07-17</th>\n",
              "      <td>1537.510010</td>\n",
              "      <td>1490.000000</td>\n",
              "      <td>1513.449951</td>\n",
              "      <td>1500.839966</td>\n",
              "      <td>9330000</td>\n",
              "      <td>1500.839966</td>\n",
              "    </tr>\n",
              "    <tr>\n",
              "      <th>2020-07-20</th>\n",
              "      <td>1650.000000</td>\n",
              "      <td>1488.000000</td>\n",
              "      <td>1519.010010</td>\n",
              "      <td>1643.000000</td>\n",
              "      <td>17121400</td>\n",
              "      <td>1643.000000</td>\n",
              "    </tr>\n",
              "    <tr>\n",
              "      <th>2020-07-21</th>\n",
              "      <td>1675.000000</td>\n",
              "      <td>1558.000000</td>\n",
              "      <td>1639.930054</td>\n",
              "      <td>1568.359985</td>\n",
              "      <td>16157300</td>\n",
              "      <td>1568.359985</td>\n",
              "    </tr>\n",
              "    <tr>\n",
              "      <th>2020-07-22</th>\n",
              "      <td>1626.420044</td>\n",
              "      <td>1562.000000</td>\n",
              "      <td>1599.000000</td>\n",
              "      <td>1592.329956</td>\n",
              "      <td>14161080</td>\n",
              "      <td>1592.329956</td>\n",
              "    </tr>\n",
              "  </tbody>\n",
              "</table>\n",
              "<p>2534 rows × 6 columns</p>\n",
              "</div>"
            ],
            "text/plain": [
              "                   High          Low  ...    Volume    Adj Close\n",
              "Date                                  ...                       \n",
              "2010-06-29    25.000000    17.540001  ...  18766300    23.889999\n",
              "2010-06-30    30.420000    23.299999  ...  17187100    23.830000\n",
              "2010-07-01    25.920000    20.270000  ...   8218800    21.959999\n",
              "2010-07-02    23.100000    18.709999  ...   5139800    19.200001\n",
              "2010-07-06    20.000000    15.830000  ...   6866900    16.110001\n",
              "...                 ...          ...  ...       ...          ...\n",
              "2020-07-16  1531.709961  1466.000000  ...  14300800  1500.640015\n",
              "2020-07-17  1537.510010  1490.000000  ...   9330000  1500.839966\n",
              "2020-07-20  1650.000000  1488.000000  ...  17121400  1643.000000\n",
              "2020-07-21  1675.000000  1558.000000  ...  16157300  1568.359985\n",
              "2020-07-22  1626.420044  1562.000000  ...  14161080  1592.329956\n",
              "\n",
              "[2534 rows x 6 columns]"
            ]
          },
          "metadata": {
            "tags": []
          },
          "execution_count": 233
        }
      ]
    },
    {
      "cell_type": "code",
      "metadata": {
        "id": "ERtAnR1YDAQj",
        "colab_type": "code",
        "colab": {
          "base_uri": "https://localhost:8080/",
          "height": 34
        },
        "outputId": "6d01e13d-0ce7-4917-dfc9-cdbe4dd35f2a"
      },
      "source": [
        "df.shape"
      ],
      "execution_count": 234,
      "outputs": [
        {
          "output_type": "execute_result",
          "data": {
            "text/plain": [
              "(2534, 6)"
            ]
          },
          "metadata": {
            "tags": []
          },
          "execution_count": 234
        }
      ]
    },
    {
      "cell_type": "code",
      "metadata": {
        "id": "r28RqSLLDImV",
        "colab_type": "code",
        "colab": {
          "base_uri": "https://localhost:8080/",
          "height": 555
        },
        "outputId": "a665cd45-d01b-4938-eab6-80172803fa72"
      },
      "source": [
        "#visualizing closing price for TSLA in 2020 (so far...)\n",
        "plt.figure(figsize=(16,8))\n",
        "plt.title('TSLA Close Price History')\n",
        "plt.plot(df['Close'])\n",
        "plt.xlabel(\"Date\", fontsize=15)\n",
        "plt.ylabel('USD', fontsize=15)\n",
        "plt.show()"
      ],
      "execution_count": 235,
      "outputs": [
        {
          "output_type": "display_data",
          "data": {
            "image/png": "[encoded data removed]",
            "text/plain": [
              "<Figure size 1152x576 with 1 Axes>"
            ]
          },
          "metadata": {
            "tags": []
          }
        }
      ]
    },
    {
      "cell_type": "code",
      "metadata": {
        "id": "Rt-7HpAJGm8k",
        "colab_type": "code",
        "colab": {
          "base_uri": "https://localhost:8080/",
          "height": 34
        },
        "outputId": "f0175255-2ac4-40f0-9c2a-9ef6676ec1ad"
      },
      "source": [
        "close = df.filter(['Close'])\n",
        "#converting close price dataframe to numpy arrays\n",
        "dataset = close.values\n",
        "training_data_size = math.ceil(len(dataset)*0.8)\n",
        "training_data_size"
      ],
      "execution_count": 236,
      "outputs": [
        {
          "output_type": "execute_result",
          "data": {
            "text/plain": [
              "2028"
            ]
          },
          "metadata": {
            "tags": []
          },
          "execution_count": 236
        }
      ]
    },
    {
      "cell_type": "code",
      "metadata": {
        "id": "c_MxV7A5HbO1",
        "colab_type": "code",
        "colab": {
          "base_uri": "https://localhost:8080/",
          "height": 134
        },
        "outputId": "f7722016-31a1-49c1-970f-63a2262e5c49"
      },
      "source": [
        "#data scaling\n",
        "scaler = MinMaxScaler(feature_range=(0,1))\n",
        "scaled_data = scaler.fit_transform(dataset)\n",
        "scaled_data"
      ],
      "execution_count": 237,
      "outputs": [
        {
          "output_type": "execute_result",
          "data": {
            "text/plain": [
              "array([[0.00497173],\n",
              "       [0.00493486],\n",
              "       [0.00378564],\n",
              "       ...,\n",
              "       [1.        ],\n",
              "       [0.95412978],\n",
              "       [0.96886059]])"
            ]
          },
          "metadata": {
            "tags": []
          },
          "execution_count": 237
        }
      ]
    },
    {
      "cell_type": "code",
      "metadata": {
        "id": "4c0DpjGWIR_k",
        "colab_type": "code",
        "colab": {
          "base_uri": "https://localhost:8080/",
          "height": 252
        },
        "outputId": "4c73c33c-0fa9-49e7-9a36-a9f1dc57375e"
      },
      "source": [
        "train_data = scaled_data[0:training_data_size, :]\n",
        "#splitting data\n",
        "x_train = []\n",
        "#target value\n",
        "y_train = []\n",
        "print(len(train_data))\n",
        "\n",
        "for i in range (60,len(train_data)):\n",
        "  x_train.append(train_data[i-60:i,0])\n",
        "  y_train.append(train_data[i,0])\n",
        "  if(i<=60):\n",
        "    print(x_train)\n",
        "    print(y_train)"
      ],
      "execution_count": 239,
      "outputs": [
        {
          "output_type": "stream",
          "text": [
            "2028\n",
            "[array([0.00497173, 0.00493486, 0.00378564, 0.00208948, 0.00019051,\n",
            "       0.        , 0.00102016, 0.00098328, 0.00076819, 0.00143805,\n",
            "       0.00248279, 0.00251352, 0.00297443, 0.00375492, 0.00276549,\n",
            "       0.00271632, 0.00319567, 0.00337389, 0.00316495, 0.00291912,\n",
            "       0.0030236 , 0.00279621, 0.00254425, 0.00314651, 0.0037795 ,\n",
            "       0.00335546, 0.00285767, 0.00232915, 0.0023353 , 0.00198501,\n",
            "       0.00129056, 0.00110619, 0.00154867, 0.00183137, 0.00205875,\n",
            "       0.00182522, 0.00183751, 0.00202802, 0.00266101, 0.00208948,\n",
            "       0.00251967, 0.00242748, 0.00239676, 0.00250123, 0.00226155,\n",
            "       0.00285767, 0.00323255, 0.0032264 , 0.00291298, 0.00313422,\n",
            "       0.00301745, 0.00268559, 0.0030236 , 0.00326942, 0.00379793,\n",
            "       0.0031588 , 0.00272247, 0.00323255, 0.00305433, 0.00250123])]\n",
            "[0.002310717352291207]\n"
          ],
          "name": "stdout"
        }
      ]
    },
    {
      "cell_type": "code",
      "metadata": {
        "id": "rjG7P33lJuOc",
        "colab_type": "code",
        "colab": {}
      },
      "source": [
        "#converting x_train and y_train to numpy array to train LSTM neural network\n",
        "x_train = np.array(x_train)\n",
        "y_train = np.array(y_train)"
      ],
      "execution_count": 240,
      "outputs": []
    },
    {
      "cell_type": "code",
      "metadata": {
        "id": "kPjD-lXNKByb",
        "colab_type": "code",
        "colab": {
          "base_uri": "https://localhost:8080/",
          "height": 34
        },
        "outputId": "5c13b259-26e3-49dc-bd6e-e71cbf152dd8"
      },
      "source": [
        "#converting 2D data to 3D data for LSTM model\n",
        "x_train = np.reshape(x_train, (x_train.shape[0],x_train.shape[1],1))\n",
        "x_train.shape"
      ],
      "execution_count": 241,
      "outputs": [
        {
          "output_type": "execute_result",
          "data": {
            "text/plain": [
              "(1968, 60, 1)"
            ]
          },
          "metadata": {
            "tags": []
          },
          "execution_count": 241
        }
      ]
    },
    {
      "cell_type": "code",
      "metadata": {
        "id": "24Ev7u_eKiv0",
        "colab_type": "code",
        "colab": {}
      },
      "source": [
        "#LSTM Model\n",
        "model = Sequential()\n",
        "#first layer\n",
        "model.add(LSTM(50, return_sequences=True, input_shape=(x_train.shape[1],1)))\n",
        "#second layer\n",
        "model.add(LSTM(50, return_sequences=False))\n",
        "#third layer (dense layer)\n",
        "model.add(Dense(25))\n",
        "model.add(Dense(1))"
      ],
      "execution_count": 243,
      "outputs": []
    },
    {
      "cell_type": "code",
      "metadata": {
        "id": "a3M-ondRLP7h",
        "colab_type": "code",
        "colab": {}
      },
      "source": [
        "model.compile(optimizer='adam', loss='mean_squared_error')"
      ],
      "execution_count": 244,
      "outputs": []
    },
    {
      "cell_type": "code",
      "metadata": {
        "id": "ocVA832JLZKr",
        "colab_type": "code",
        "colab": {
          "base_uri": "https://localhost:8080/",
          "height": 67
        },
        "outputId": "1564c9f0-33d5-4e8c-cb99-857d517cbf43"
      },
      "source": [
        "model.fit(x_train, y_train, batch_size=1, epochs=1)"
      ],
      "execution_count": 245,
      "outputs": [
        {
          "output_type": "stream",
          "text": [
            "Epoch 1/1\n",
            "1968/1968 [==============================] - 85s 43ms/step - loss: 1.7260e-04\n"
          ],
          "name": "stdout"
        },
        {
          "output_type": "execute_result",
          "data": {
            "text/plain": [
              "<keras.callbacks.callbacks.History at 0x7f47fbfb6358>"
            ]
          },
          "metadata": {
            "tags": []
          },
          "execution_count": 245
        }
      ]
    },
    {
      "cell_type": "code",
      "metadata": {
        "id": "hDnelJVeNuGu",
        "colab_type": "code",
        "colab": {
          "base_uri": "https://localhost:8080/",
          "height": 34
        },
        "outputId": "39342a17-a9ea-4ce2-dead-e6238c65dd6c"
      },
      "source": [
        "#testing data\n",
        "test_data = scaled_data[(training_data_size-60): , :]\n",
        "x_test = []\n",
        "print(training_data_size,len(test_data))\n",
        "#values for model to predict\n",
        "y_test = dataset[training_data_size: , :]\n",
        "for i in range(60, len(test_data)):\n",
        "  x_test.append(test_data[i-60:i , 0])"
      ],
      "execution_count": 246,
      "outputs": [
        {
          "output_type": "stream",
          "text": [
            "2028 566\n"
          ],
          "name": "stdout"
        }
      ]
    },
    {
      "cell_type": "code",
      "metadata": {
        "id": "2WaApf7RTGzi",
        "colab_type": "code",
        "colab": {
          "base_uri": "https://localhost:8080/",
          "height": 34
        },
        "outputId": "408b2289-bbe6-465f-f398-fb6fa1b25cbd"
      },
      "source": [
        "#converting data to numpy data\n",
        "x_test = np.array(x_test)\n",
        "x_test.shape"
      ],
      "execution_count": 247,
      "outputs": [
        {
          "output_type": "execute_result",
          "data": {
            "text/plain": [
              "(506, 60)"
            ]
          },
          "metadata": {
            "tags": []
          },
          "execution_count": 247
        }
      ]
    },
    {
      "cell_type": "code",
      "metadata": {
        "colab_type": "code",
        "id": "fnCgTT9hWNvO",
        "colab": {}
      },
      "source": [
        "#converting 2D data to 3D data for LSTM model\n",
        "x_test = np.reshape(x_test, (x_test.shape[0],x_test.shape[1],1))"
      ],
      "execution_count": 248,
      "outputs": []
    },
    {
      "cell_type": "code",
      "metadata": {
        "id": "rD39l3GYXg6R",
        "colab_type": "code",
        "colab": {}
      },
      "source": [
        "predictions = model.predict(x_test)\n",
        "predictions = scaler.inverse_transform(predictions)"
      ],
      "execution_count": 249,
      "outputs": []
    },
    {
      "cell_type": "code",
      "metadata": {
        "id": "doma-Z2gaxps",
        "colab_type": "code",
        "colab": {
          "base_uri": "https://localhost:8080/",
          "height": 34
        },
        "outputId": "389fa954-77b8-4b14-eb36-e81ddc14bc69"
      },
      "source": [
        "#checking accuracy (rmse)\n",
        "rmse = np.sqrt( np.mean(predictions-y_test)**2 )\n",
        "rmse"
      ],
      "execution_count": 250,
      "outputs": [
        {
          "output_type": "execute_result",
          "data": {
            "text/plain": [
              "12.471402797774363"
            ]
          },
          "metadata": {
            "tags": []
          },
          "execution_count": 250
        }
      ]
    },
    {
      "cell_type": "code",
      "metadata": {
        "id": "W3Fnaxphg0Da",
        "colab_type": "code",
        "colab": {
          "base_uri": "https://localhost:8080/",
          "height": 656
        },
        "outputId": "88c1c88e-5955-4047-a6ec-be146e34ec37"
      },
      "source": [
        "train = close[:training_data_size]\n",
        "valid = close[training_data_size:]\n",
        "valid['Predictions'] = predictions\n",
        "plt.figure(figsize=(16,8))\n",
        "plt.title('Model')\n",
        "plt.xlabel('Date', fontsize=15)\n",
        "plt.ylabel('USD', fontsize=15)\n",
        "plt.plot(train['Close'])\n",
        "plt.plot(valid[['Close','Predictions']])\n",
        "plt.legend(['Train', 'Validation', 'Predictions'], loc='lower right')\n",
        "plt.show()"
      ],
      "execution_count": 251,
      "outputs": [
        {
          "output_type": "stream",
          "text": [
            "/usr/local/lib/python3.6/dist-packages/ipykernel_launcher.py:3: SettingWithCopyWarning: \n",
            "A value is trying to be set on a copy of a slice from a DataFrame.\n",
            "Try using .loc[row_indexer,col_indexer] = value instead\n",
            "\n",
            "See the caveats in the documentation: https://pandas.pydata.org/pandas-docs/stable/user_guide/indexing.html#returning-a-view-versus-a-copy\n",
            "  This is separate from the ipykernel package so we can avoid doing imports until\n"
          ],
          "name": "stderr"
        },
        {
          "output_type": "display_data",
          "data": {
            "image/png": "[encoded data removed]",
            "text/plain": [
              "<Figure size 1152x576 with 1 Axes>"
            ]
          },
          "metadata": {
            "tags": []
          }
        }
      ]
    },
    {
      "cell_type": "code",
      "metadata": {
        "id": "5NSoaQvFiaS4",
        "colab_type": "code",
        "colab": {
          "base_uri": "https://localhost:8080/",
          "height": 431
        },
        "outputId": "51a823d4-bc19-4a82-b4c4-ff665226f2af"
      },
      "source": [
        "valid"
      ],
      "execution_count": 252,
      "outputs": [
        {
          "output_type": "execute_result",
          "data": {
            "text/html": [
              "<div>\n",
              "<style scoped>\n",
              "    .dataframe tbody tr th:only-of-type {\n",
              "        vertical-align: middle;\n",
              "    }\n",
              "\n",
              "    .dataframe tbody tr th {\n",
              "        vertical-align: top;\n",
              "    }\n",
              "\n",
              "    .dataframe thead th {\n",
              "        text-align: right;\n",
              "    }\n",
              "</style>\n",
              "<table border=\"1\" class=\"dataframe\">\n",
              "  <thead>\n",
              "    <tr style=\"text-align: right;\">\n",
              "      <th></th>\n",
              "      <th>Close</th>\n",
              "      <th>Predictions</th>\n",
              "    </tr>\n",
              "    <tr>\n",
              "      <th>Date</th>\n",
              "      <th></th>\n",
              "      <th></th>\n",
              "    </tr>\n",
              "  </thead>\n",
              "  <tbody>\n",
              "    <tr>\n",
              "      <th>2018-07-19</th>\n",
              "      <td>320.230011</td>\n",
              "      <td>346.261627</td>\n",
              "    </tr>\n",
              "    <tr>\n",
              "      <th>2018-07-20</th>\n",
              "      <td>313.579987</td>\n",
              "      <td>347.071472</td>\n",
              "    </tr>\n",
              "    <tr>\n",
              "      <th>2018-07-23</th>\n",
              "      <td>303.200012</td>\n",
              "      <td>346.883484</td>\n",
              "    </tr>\n",
              "    <tr>\n",
              "      <th>2018-07-24</th>\n",
              "      <td>297.429993</td>\n",
              "      <td>344.926697</td>\n",
              "    </tr>\n",
              "    <tr>\n",
              "      <th>2018-07-25</th>\n",
              "      <td>308.739990</td>\n",
              "      <td>341.579865</td>\n",
              "    </tr>\n",
              "    <tr>\n",
              "      <th>...</th>\n",
              "      <td>...</td>\n",
              "      <td>...</td>\n",
              "    </tr>\n",
              "    <tr>\n",
              "      <th>2020-07-16</th>\n",
              "      <td>1500.640015</td>\n",
              "      <td>1378.457031</td>\n",
              "    </tr>\n",
              "    <tr>\n",
              "      <th>2020-07-17</th>\n",
              "      <td>1500.839966</td>\n",
              "      <td>1391.683594</td>\n",
              "    </tr>\n",
              "    <tr>\n",
              "      <th>2020-07-20</th>\n",
              "      <td>1643.000000</td>\n",
              "      <td>1398.239014</td>\n",
              "    </tr>\n",
              "    <tr>\n",
              "      <th>2020-07-21</th>\n",
              "      <td>1568.359985</td>\n",
              "      <td>1417.581177</td>\n",
              "    </tr>\n",
              "    <tr>\n",
              "      <th>2020-07-22</th>\n",
              "      <td>1592.329956</td>\n",
              "      <td>1429.093872</td>\n",
              "    </tr>\n",
              "  </tbody>\n",
              "</table>\n",
              "<p>506 rows × 2 columns</p>\n",
              "</div>"
            ],
            "text/plain": [
              "                  Close  Predictions\n",
              "Date                                \n",
              "2018-07-19   320.230011   346.261627\n",
              "2018-07-20   313.579987   347.071472\n",
              "2018-07-23   303.200012   346.883484\n",
              "2018-07-24   297.429993   344.926697\n",
              "2018-07-25   308.739990   341.579865\n",
              "...                 ...          ...\n",
              "2020-07-16  1500.640015  1378.457031\n",
              "2020-07-17  1500.839966  1391.683594\n",
              "2020-07-20  1643.000000  1398.239014\n",
              "2020-07-21  1568.359985  1417.581177\n",
              "2020-07-22  1592.329956  1429.093872\n",
              "\n",
              "[506 rows x 2 columns]"
            ]
          },
          "metadata": {
            "tags": []
          },
          "execution_count": 252
        }
      ]
    },
    {
      "cell_type": "code",
      "metadata": {
        "id": "UiYO7NTjkPA7",
        "colab_type": "code",
        "colab": {
          "base_uri": "https://localhost:8080/",
          "height": 34
        },
        "outputId": "22c32db7-7783-46e6-c923-76b3a12432b2"
      },
      "source": [
        "tsla_quote = web.DataReader('TSLA', data_source='yahoo', start='2010-06-29', end='2020-07-22')\n",
        "new_df = tsla_quote.filter(['Close'])\n",
        "last_450_days = new_df[-60:].values\n",
        "last_450_days_scaled=scaler.transform(last_450_days)\n",
        "X = []\n",
        "X.append(last_450_days_scaled)\n",
        "X = np.array(X)\n",
        "X = np.reshape(X,(X.shape[0],X.shape[1],1))\n",
        "#Get prediction\n",
        "pred_price = model.predict(X)\n",
        "pred_price = scaler.inverse_transform(pred_price)\n",
        "print(pred_price)"
      ],
      "execution_count": 254,
      "outputs": [
        {
          "output_type": "stream",
          "text": [
            "[[1439.3503]]\n"
          ],
          "name": "stdout"
        }
      ]
    },
    {
      "cell_type": "code",
      "metadata": {
        "id": "0AV_Ro9QlkNM",
        "colab_type": "code",
        "colab": {
          "base_uri": "https://localhost:8080/",
          "height": 67
        },
        "outputId": "992d7b2f-f7ae-426a-99d7-799d5f67cf45"
      },
      "source": [
        "tsla_quote2 = web.DataReader('TSLA', data_source='yahoo', start='2020-07-22', end='2020-07-22')\n",
        "print(tsla_quote2['Close'])"
      ],
      "execution_count": 256,
      "outputs": [
        {
          "output_type": "stream",
          "text": [
            "Date\n",
            "2020-07-22    1592.329956\n",
            "Name: Close, dtype: float64\n"
          ],
          "name": "stdout"
        }
      ]
    },
    {
      "cell_type": "code",
      "metadata": {
        "id": "GX34Fh4Al75n",
        "colab_type": "code",
        "colab": {
          "base_uri": "https://localhost:8080/",
          "height": 34
        },
        "outputId": "3f30f02b-b79b-43dc-ee07-1e089e113a7c"
      },
      "source": [
        "print(\"Accuracy\",(pred_price/1592.329956)*100,\"%\")"
      ],
      "execution_count": 265,
      "outputs": [
        {
          "output_type": "stream",
          "text": [
            "Accuracy [[90.39272]] %\n"
          ],
          "name": "stdout"
        }
      ]
    }
  ]
}